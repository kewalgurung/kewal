{
 "cells": [
  {
   "cell_type": "markdown",
   "id": "f04aea7a",
   "metadata": {},
   "source": [
    "Question 1: File Reading and Writing - 5 Marks\n",
    "\n",
    "Your task is to create a Python program that reads a text file and writes its content to a new file but in reverse order.\n"
   ]
  },
  {
   "cell_type": "code",
   "execution_count": 3,
   "id": "2c847b64",
   "metadata": {},
   "outputs": [],
   "source": [
    "file = open('input.txt', 'w')\n",
    "file.write('kewal')\n",
    "file.close()"
   ]
  },
  {
   "cell_type": "code",
   "execution_count": 4,
   "id": "980bc36e",
   "metadata": {},
   "outputs": [],
   "source": [
    "file= open ('input.txt', 'r')\n",
    "contents = file.read()"
   ]
  },
  {
   "cell_type": "code",
   "execution_count": 5,
   "id": "701bd242",
   "metadata": {},
   "outputs": [
    {
     "name": "stdout",
     "output_type": "stream",
     "text": [
      "lawek\n"
     ]
    }
   ],
   "source": [
    "print(contents[::-1])\n",
    "file.close()"
   ]
  },
  {
   "cell_type": "markdown",
   "id": "8c193992",
   "metadata": {},
   "source": [
    "Question 2: Object-Oriented Programming - 5 Marks\n",
    "\n",
    "Write a Python program using Object-Oriented Programming principles.\n"
   ]
  },
  {
   "cell_type": "code",
   "execution_count": 7,
   "id": "2da62e76",
   "metadata": {},
   "outputs": [
    {
     "name": "stdout",
     "output_type": "stream",
     "text": [
      "Radius: 5\n",
      "Area: 78.53981633974483\n",
      "Circumference: 31.41592653589793\n"
     ]
    }
   ],
   "source": [
    "\n",
    "\n",
    "class Circle:\n",
    "    def __init__(self, radius=1):\n",
    "        self.radius = radius\n",
    "\n",
    "    def area(self):\n",
    "        return math.pi * self.radius ** 2\n",
    "\n",
    "    def circumference(self):\n",
    "        return 2 * math.pi * self.radius\n",
    "\n",
    "def main():\n",
    "    \n",
    "    circle = Circle(5)\n",
    "\n",
    "    print(f\"Radius: {circle.radius}\")\n",
    "    print(f\"Area: {circle.area()}\")\n",
    "    print(f\"Circumference: {circle.circumference()}\")\n",
    "\n",
    "if __name__ == \"__main__\":\n",
    "    main()"
   ]
  }
 ],
 "metadata": {
  "kernelspec": {
   "display_name": "Python 3 (ipykernel)",
   "language": "python",
   "name": "python3"
  },
  "language_info": {
   "codemirror_mode": {
    "name": "ipython",
    "version": 3
   },
   "file_extension": ".py",
   "mimetype": "text/x-python",
   "name": "python",
   "nbconvert_exporter": "python",
   "pygments_lexer": "ipython3",
   "version": "3.10.9"
  }
 },
 "nbformat": 4,
 "nbformat_minor": 5
}
