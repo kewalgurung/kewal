{
 "cells": [
  {
   "cell_type": "code",
   "execution_count": 1,
   "id": "062cef9c",
   "metadata": {},
   "outputs": [],
   "source": [
    "#*args(argument)"
   ]
  },
  {
   "cell_type": "code",
   "execution_count": 2,
   "id": "4f52cb77",
   "metadata": {},
   "outputs": [],
   "source": [
    "def myfunc(a,b):\n",
    "    return sum((a,b)) * 0.05 #sum((a,b))"
   ]
  },
  {
   "cell_type": "code",
   "execution_count": 3,
   "id": "27d8711e",
   "metadata": {},
   "outputs": [
    {
     "data": {
      "text/plain": [
       "5.5"
      ]
     },
     "execution_count": 3,
     "metadata": {},
     "output_type": "execute_result"
    }
   ],
   "source": [
    "myfunc(60,50)"
   ]
  },
  {
   "cell_type": "code",
   "execution_count": 5,
   "id": "1c4cd88a",
   "metadata": {},
   "outputs": [],
   "source": [
    "def myfunc(a,b,c=0,d=0):\n",
    "    return sum((a,b,c,d))*0.05"
   ]
  },
  {
   "cell_type": "code",
   "execution_count": 11,
   "id": "15a3c426",
   "metadata": {},
   "outputs": [
    {
     "data": {
      "text/plain": [
       "5.0"
      ]
     },
     "execution_count": 11,
     "metadata": {},
     "output_type": "execute_result"
    }
   ],
   "source": [
    "myfunc(10,20,30,40)"
   ]
  },
  {
   "cell_type": "code",
   "execution_count": 12,
   "id": "d5d39f23",
   "metadata": {},
   "outputs": [
    {
     "name": "stdout",
     "output_type": "stream",
     "text": [
      "10\n",
      "20\n",
      "30\n",
      "40\n",
      "50\n",
      "60\n"
     ]
    }
   ],
   "source": [
    "def myfunc(*args):\n",
    "    for item in args:\n",
    "        print (item)\n",
    "myfunc(10,20,30,40,50,60)        "
   ]
  },
  {
   "cell_type": "code",
   "execution_count": 14,
   "id": "22a8e98b",
   "metadata": {},
   "outputs": [
    {
     "name": "stdout",
     "output_type": "stream",
     "text": [
      "10\n",
      "20\n",
      "30\n",
      "40\n",
      "50\n",
      "60\n"
     ]
    }
   ],
   "source": [
    "def myfunc (*args):\n",
    "    for item in args:\n",
    "        print(item)\n",
    "myfunc(10,20,30,40,50,60)        "
   ]
  },
  {
   "cell_type": "code",
   "execution_count": 7,
   "id": "7a171b34",
   "metadata": {},
   "outputs": [
    {
     "name": "stdout",
     "output_type": "stream",
     "text": [
      "{'fruit': 'Apple', 'food': 'Rice', 'veggie': 'lettuce'}\n",
      "my chgoice of friut is Rice\n"
     ]
    }
   ],
   "source": [
    "def myfunc(**kwargs):\n",
    "    print(kwargs)\n",
    "    if 'fruit'in kwargs:\n",
    "        print('my chgoice of friut is {}'.format(kwargs['food']))\n",
    "    else:\n",
    "      print('I did not find any fruit here')\n",
    "myfunc(fruit='Apple',food = 'Rice',veggie = 'lettuce') \n",
    "   "
   ]
  },
  {
   "cell_type": "code",
   "execution_count": 4,
   "id": "5fb7b2e9",
   "metadata": {},
   "outputs": [],
   "source": [
    "def mynewfunc(*args,**kwargs):\n",
    " print('I would like {} {}'.format(args[0],kwargs['food']))"
   ]
  },
  {
   "cell_type": "code",
   "execution_count": 5,
   "id": "2f16b8f9",
   "metadata": {},
   "outputs": [
    {
     "name": "stdout",
     "output_type": "stream",
     "text": [
      "I would like 10 Biryani\n"
     ]
    }
   ],
   "source": [
    "mynewfunc(10,20,30,40,food= 'Biryani',fruit='Mango',veggie='potato')"
   ]
  },
  {
   "cell_type": "code",
   "execution_count": 9,
   "id": "f8154c55",
   "metadata": {},
   "outputs": [],
   "source": [
    "#Functions #1: *args\n"
   ]
  },
  {
   "cell_type": "markdown",
   "id": "1ac464a2",
   "metadata": {},
   "source": [
    "Define a function called myfunc that takes in an arbitrary number of arguments, and returns the sum of \n",
    "those arguments"
   ]
  },
  {
   "cell_type": "code",
   "execution_count": 10,
   "id": "ceb8658c",
   "metadata": {},
   "outputs": [],
   "source": [
    "def myfunc(*args):\n",
    "    return len(args)"
   ]
  },
  {
   "cell_type": "code",
   "execution_count": 11,
   "id": "ac8c2813",
   "metadata": {},
   "outputs": [
    {
     "data": {
      "text/plain": [
       "4"
      ]
     },
     "execution_count": 11,
     "metadata": {},
     "output_type": "execute_result"
    }
   ],
   "source": [
    "myfunc(5,6,7,8)"
   ]
  },
  {
   "cell_type": "code",
   "execution_count": 12,
   "id": "7aac39b9",
   "metadata": {},
   "outputs": [],
   "source": [
    "#Functions #2: pick evens"
   ]
  },
  {
   "cell_type": "markdown",
   "id": "e07afa51",
   "metadata": {},
   "source": [
    "Define a function called myfunc that takes in an arbitrary number of arguments, and returns a list \n",
    "containing only those arguments that are even."
   ]
  },
  {
   "cell_type": "code",
   "execution_count": 22,
   "id": "0f3009d9",
   "metadata": {},
   "outputs": [
    {
     "ename": "NameError",
     "evalue": "name 'my_func' is not defined",
     "output_type": "error",
     "traceback": [
      "\u001b[1;31m---------------------------------------------------------------------------\u001b[0m",
      "\u001b[1;31mNameError\u001b[0m                                 Traceback (most recent call last)",
      "Cell \u001b[1;32mIn[22], line 9\u001b[0m\n\u001b[0;32m      7\u001b[0m             \u001b[38;5;28;01mpass\u001b[39;00m\n\u001b[0;32m      8\u001b[0m     \u001b[38;5;28;01mreturn\u001b[39;00m mylist\n\u001b[1;32m----> 9\u001b[0m \u001b[43mmy_func\u001b[49m(\u001b[38;5;241m1\u001b[39m,\u001b[38;5;241m2\u001b[39m,\u001b[38;5;241m3\u001b[39m,\u001b[38;5;241m4\u001b[39m,\u001b[38;5;241m5\u001b[39m,\u001b[38;5;241m6\u001b[39m,\u001b[38;5;241m7\u001b[39m,\u001b[38;5;241m8\u001b[39m)\n",
      "\u001b[1;31mNameError\u001b[0m: name 'my_func' is not defined"
     ]
    }
   ],
   "source": [
    "def myfunc(*args):\n",
    "    mylist=[]\n",
    "    for numbers in args:\n",
    "        if number%2==0:\n",
    "            mylist.append(number)\n",
    "        else:\n",
    "            pass\n",
    "    return mylist\n",
    "my_func(1,2,3,4,5,6,7,8)"
   ]
  },
  {
   "cell_type": "code",
   "execution_count": null,
   "id": "655d7bc5",
   "metadata": {},
   "outputs": [],
   "source": []
  },
  {
   "cell_type": "code",
   "execution_count": 17,
   "id": "39d4e327",
   "metadata": {},
   "outputs": [],
   "source": [
    "#Functions #10: skyline\n"
   ]
  },
  {
   "cell_type": "markdown",
   "id": "82432142",
   "metadata": {},
   "source": [
    "Define a function called myfunc that takes in a string, and returns a matching string where every even \n",
    "letter is uppercase, and every odd letter is lowercase. Assume that the incoming string only contains \n",
    "letters, and don't worry about numbers, spaces or punctuation. The output string can start with either \n",
    "an uppercase or lowercase letter, so long as letters alternate throughout the string."
   ]
  },
  {
   "cell_type": "code",
   "execution_count": null,
   "id": "72fcbfdf",
   "metadata": {},
   "outputs": [],
   "source": []
  }
 ],
 "metadata": {
  "kernelspec": {
   "display_name": "Python 3 (ipykernel)",
   "language": "python",
   "name": "python3"
  },
  "language_info": {
   "codemirror_mode": {
    "name": "ipython",
    "version": 3
   },
   "file_extension": ".py",
   "mimetype": "text/x-python",
   "name": "python",
   "nbconvert_exporter": "python",
   "pygments_lexer": "ipython3",
   "version": "3.10.9"
  }
 },
 "nbformat": 4,
 "nbformat_minor": 5
}
