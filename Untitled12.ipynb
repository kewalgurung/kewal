{
 "cells": [
  {
   "cell_type": "code",
   "execution_count": 11,
   "id": "06d81893",
   "metadata": {},
   "outputs": [
    {
     "name": "stdout",
     "output_type": "stream",
     "text": [
      "Page Title:  Jupyter Notebook\n"
     ]
    }
   ],
   "source": [
    "from bs4 import BeautifulSoup\n",
    "import requests\n",
    "url = 'http://localhost:8889/notebooks/Desktop/kewal%20%20python%20files/Untitled12.ipynb?kernel_name=python3'\n",
    "response = requests.get(url)\n",
    "soup = BeautifulSoup(response.text, 'html.parser')\n",
    "# Extract title of the page\n",
    "page_title = soup.title.text\n",
    "print('Page Title: ', page_title)\n"
   ]
  },
  {
   "cell_type": "code",
   "execution_count": null,
   "id": "d2278a1d",
   "metadata": {},
   "outputs": [],
   "source": []
  }
 ],
 "metadata": {
  "kernelspec": {
   "display_name": "Python 3 (ipykernel)",
   "language": "python",
   "name": "python3"
  },
  "language_info": {
   "codemirror_mode": {
    "name": "ipython",
    "version": 3
   },
   "file_extension": ".py",
   "mimetype": "text/x-python",
   "name": "python",
   "nbconvert_exporter": "python",
   "pygments_lexer": "ipython3",
   "version": "3.10.9"
  }
 },
 "nbformat": 4,
 "nbformat_minor": 5
}
