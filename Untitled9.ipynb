{
 "cells": [
  {
   "cell_type": "markdown",
   "id": "ca49470d",
   "metadata": {},
   "source": [
    "Problem Statement:\n",
    "Write a Python function called convert_temperature(temp, from_scale, to_scale) that takes a temperature, a scale to convert from, and a scale to convert to as input. The scales can be \"Celsius\", \"Fahrenheit\", or \"Kelvin\". The function should convert the temperature to the requested scale.\n"
   ]
  },
  {
   "cell_type": "code",
   "execution_count": 1,
   "id": "ecef0693",
   "metadata": {},
   "outputs": [
    {
     "name": "stdout",
     "output_type": "stream",
     "text": [
      "32.0\n"
     ]
    }
   ],
   "source": [
    "def convert_temperature(temp, from_scale, to_scale):\n",
    "    if from_scale == 'Celsius':\n",
    "        if to_scale == 'Fahrenheit':\n",
    "            return (temp * 9/5) + 32\n",
    "print(convert_temperature(0, 'Celsius', 'Fahrenheit'))"
   ]
  },
  {
   "cell_type": "code",
   "execution_count": 6,
   "id": "f19c696e",
   "metadata": {},
   "outputs": [
    {
     "name": "stdout",
     "output_type": "stream",
     "text": [
      "0.0\n"
     ]
    }
   ],
   "source": [
    "def convert_temperature(temp, from_scale, to_scale):\n",
    "    if from_scale == 'Fahrenheit':\n",
    "        if to_scale == 'Celsius':\n",
    "            return(temp -32) *5/9\n",
    "print(convert_temperature(32, 'Fahrenheit', 'Celsius'))"
   ]
  },
  {
   "cell_type": "code",
   "execution_count": 15,
   "id": "65b2810d",
   "metadata": {},
   "outputs": [
    {
     "name": "stdout",
     "output_type": "stream",
     "text": [
      "enter the temperature0\n",
      "-273.15\n"
     ]
    }
   ],
   "source": [
    "def convert_temperature(temp, from_scale, to_scale):\n",
    "    if from_scale == 'Celsius':\n",
    "        if to_scale == 'Kelvin':\n",
    "            return (temp * 9/5) - 273.15\n",
    "print(convert_temperature(int(input('enter the temperature')), 'Celsius', 'Kelvin'))"
   ]
  },
  {
   "cell_type": "markdown",
   "id": "0b635c20",
   "metadata": {},
   "source": [
    "Assessment 2: Create python program using modules , collections, OS, date-time, math, and random operations also note the usecase of each modules"
   ]
  },
  {
   "cell_type": "code",
   "execution_count": 7,
   "id": "2b49041c",
   "metadata": {},
   "outputs": [
    {
     "name": "stdout",
     "output_type": "stream",
     "text": [
      "A 65\n",
      "C 67\n",
      "B 66\n",
      "D 68\n"
     ]
    }
   ],
   "source": [
    "import collections\n",
    "\n",
    "d1 = collections.OrderedDict()\n",
    "d1['A'] = 65\n",
    "d1['C'] = 67\n",
    "d1['B'] = 66\n",
    "d1['D'] = 68\n",
    "\n",
    "for k,v in d1.items():\n",
    "    print (k,v)"
   ]
  },
  {
   "cell_type": "code",
   "execution_count": 8,
   "id": "21da6738",
   "metadata": {},
   "outputs": [
    {
     "name": "stdout",
     "output_type": "stream",
     "text": [
      "C:\\Users\\Lenovo\\Desktop\\kewal  python files\n"
     ]
    }
   ],
   "source": [
    "import os     \n",
    "print(os.getcwd())     "
   ]
  },
  {
   "cell_type": "code",
   "execution_count": 9,
   "id": "03091ba2",
   "metadata": {},
   "outputs": [
    {
     "name": "stdout",
     "output_type": "stream",
     "text": [
      "2023-07-04 02:58:09.285013\n"
     ]
    }
   ],
   "source": [
    "import datetime\n",
    "\n",
    "now = datetime.datetime.now()\n",
    "\n",
    "print(now)"
   ]
  },
  {
   "cell_type": "code",
   "execution_count": 14,
   "id": "3eac0e86",
   "metadata": {},
   "outputs": [
    {
     "name": "stdout",
     "output_type": "stream",
     "text": [
      "2.718281828459045\n"
     ]
    }
   ],
   "source": [
    "\n",
    "import math\n",
    "print (math.e)"
   ]
  },
  {
   "cell_type": "code",
   "execution_count": 16,
   "id": "8daedea7",
   "metadata": {},
   "outputs": [
    {
     "name": "stdout",
     "output_type": "stream",
     "text": [
      "9\n"
     ]
    }
   ],
   "source": [
    "\n",
    "import random\n",
    "\n",
    "print(random.randint(0,9))"
   ]
  },
  {
   "cell_type": "code",
   "execution_count": null,
   "id": "50ceb627",
   "metadata": {},
   "outputs": [],
   "source": []
  }
 ],
 "metadata": {
  "kernelspec": {
   "display_name": "Python 3 (ipykernel)",
   "language": "python",
   "name": "python3"
  },
  "language_info": {
   "codemirror_mode": {
    "name": "ipython",
    "version": 3
   },
   "file_extension": ".py",
   "mimetype": "text/x-python",
   "name": "python",
   "nbconvert_exporter": "python",
   "pygments_lexer": "ipython3",
   "version": "3.10.9"
  }
 },
 "nbformat": 4,
 "nbformat_minor": 5
}
