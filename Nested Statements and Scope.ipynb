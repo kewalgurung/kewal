{
 "cells": [
  {
   "cell_type": "code",
   "execution_count": 2,
   "id": "afc9f07a",
   "metadata": {},
   "outputs": [],
   "source": [
    "x = 25\n",
    "\n",
    "def printer():\n",
    "    x =50\n",
    "    return x\n",
    "\n",
    "#print(x)\n",
    "#print(printer())\n",
    "        "
   ]
  },
  {
   "cell_type": "code",
   "execution_count": 4,
   "id": "4ad140cb",
   "metadata": {},
   "outputs": [
    {
     "name": "stdout",
     "output_type": "stream",
     "text": [
      "25\n"
     ]
    }
   ],
   "source": [
    "print(x)"
   ]
  },
  {
   "cell_type": "code",
   "execution_count": 7,
   "id": "26dec4b8",
   "metadata": {},
   "outputs": [
    {
     "name": "stdout",
     "output_type": "stream",
     "text": [
      "50\n"
     ]
    }
   ],
   "source": [
    "print(printer())"
   ]
  },
  {
   "cell_type": "markdown",
   "id": "d85c2af2",
   "metadata": {},
   "source": [
    "Quick examples of LEGB"
   ]
  },
  {
   "cell_type": "markdown",
   "id": "82b1faef",
   "metadata": {},
   "source": [
    "|Enclosing function locals"
   ]
  },
  {
   "cell_type": "code",
   "execution_count": 13,
   "id": "ac1562dd",
   "metadata": {},
   "outputs": [],
   "source": [
    "# x is local here:\n",
    "f= lambda x:x**2"
   ]
  },
  {
   "cell_type": "code",
   "execution_count": 14,
   "id": "5ae0ec07",
   "metadata": {},
   "outputs": [
    {
     "ename": "IndentationError",
     "evalue": "unexpected indent (2336350993.py, line 7)",
     "output_type": "error",
     "traceback": [
      "\u001b[1;36m  Cell \u001b[1;32mIn[14], line 7\u001b[1;36m\u001b[0m\n\u001b[1;33m    def hello():\u001b[0m\n\u001b[1;37m    ^\u001b[0m\n\u001b[1;31mIndentationError\u001b[0m\u001b[1;31m:\u001b[0m unexpected indent\n"
     ]
    }
   ],
   "source": [
    "name='this is a gobal name '\n",
    "\n",
    "def greet():\n",
    "    # Enclosing function\n",
    "   name ='sammy'\n",
    "    \n",
    "    def hello():\n",
    "        print('hello'+name)\n",
    "    \n",
    "    hello()\n",
    "\n",
    "greet()"
   ]
  },
  {
   "cell_type": "code",
   "execution_count": 20,
   "id": "c972a2fe",
   "metadata": {},
   "outputs": [
    {
     "name": "stdout",
     "output_type": "stream",
     "text": [
      "x is 50\n",
      "changed local x to 2\n",
      "x is still 50\n"
     ]
    }
   ],
   "source": [
    "x = 50\n",
    "\n",
    "def func(x):\n",
    " print('x is',x)\n",
    " x =2\n",
    " print('changed local x to',x)\n",
    "func(x)\n",
    "print('x is still',x)"
   ]
  },
  {
   "cell_type": "code",
   "execution_count": 25,
   "id": "032be68c",
   "metadata": {},
   "outputs": [
    {
     "name": "stdout",
     "output_type": "stream",
     "text": [
      "Before calling func(), x is:  50\n",
      "This function is now using the global x!\n",
      "Because of global x is:  50\n",
      "Ran func(), changed global x to 2\n",
      "Value of x (outside of func()) is:  2\n"
     ]
    }
   ],
   "source": [
    "x = 50\n",
    "def func():\n",
    " global x\n",
    " print('This function is now using the global x!')\n",
    " print('Because of global x is: ', x)\n",
    " x = 2\n",
    " print('Ran func(), changed global x to', x)\n",
    "print('Before calling func(), x is: ', x)\n",
    "func()\n",
    "print('Value of x (outside of func()) is: ', x)\n"
   ]
  },
  {
   "cell_type": "code",
   "execution_count": null,
   "id": "63ba231e",
   "metadata": {},
   "outputs": [],
   "source": []
  }
 ],
 "metadata": {
  "kernelspec": {
   "display_name": "Python 3 (ipykernel)",
   "language": "python",
   "name": "python3"
  },
  "language_info": {
   "codemirror_mode": {
    "name": "ipython",
    "version": 3
   },
   "file_extension": ".py",
   "mimetype": "text/x-python",
   "name": "python",
   "nbconvert_exporter": "python",
   "pygments_lexer": "ipython3",
   "version": "3.10.9"
  }
 },
 "nbformat": 4,
 "nbformat_minor": 5
}
