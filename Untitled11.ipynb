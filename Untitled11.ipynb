{
 "cells": [
  {
   "cell_type": "code",
   "execution_count": null,
   "id": "8a294099",
   "metadata": {},
   "outputs": [],
   "source": [
    "# linear search\n",
    "def linearsearch(arr,target):\n",
    "    for i in range(len(arr)):\n",
    "        if (arr[i]==target):\n",
    "            return i\n",
    "#array is a collection of similar data elements stored at contiguous memory locations\n",
    "array=[1,3,4,6,7,8]\n",
    "target_value =input(\"Enter a number: \")\n",
    "result = l inearsearch(array,target_value)\n",
    "if result  != -1:\n",
    "    print(f' the target value{target_value}was found at {result}.')\n",
    "else:\n",
    "    print(f' the target value{target_value}was not found in the array')\n",
    "   "
   ]
  },
  {
   "cell_type": "code",
   "execution_count": null,
   "id": "2a67874a",
   "metadata": {},
   "outputs": [],
   "source": [
    "#binary search\n",
    "def binary_search(arr, low, high, target):\n",
    "    while low <= high:\n",
    "        mid = (low + high) // 2\n",
    "        if arr[mid] == target:\n",
    "            return mid\n",
    "        elif arr[mid] > target:\n",
    "            return binary_search(arr, low, mid - 1, target)\n",
    "        else:\n",
    "            return binary_search(arr, mid + 1, high, target)\n",
    "    return -1\n",
    "\n",
    "array = [2, 4, 7, 10, 15, 20]\n",
    "target_value = int(target_value)\n",
    "result = binary_search(array, 0, len(array) - 1, target_value)\n",
    "if result != -1:\n",
    "    print(f\"The target value {target_value} was found at index {result}.\")\n",
    "else:\n",
    "    print(f\"The target value {target_value} was not found in the array.\")"
   ]
  },
  {
   "cell_type": "code",
   "execution_count": null,
   "id": "a0491998",
   "metadata": {},
   "outputs": [],
   "source": []
  }
 ],
 "metadata": {
  "kernelspec": {
   "display_name": "Python 3 (ipykernel)",
   "language": "python",
   "name": "python3"
  },
  "language_info": {
   "codemirror_mode": {
    "name": "ipython",
    "version": 3
   },
   "file_extension": ".py",
   "mimetype": "text/x-python",
   "name": "python",
   "nbconvert_exporter": "python",
   "pygments_lexer": "ipython3",
   "version": "3.10.9"
  }
 },
 "nbformat": 4,
 "nbformat_minor": 5
}
