{
 "cells": [
  {
   "cell_type": "code",
   "execution_count": null,
   "id": "5f911419",
   "metadata": {},
   "outputs": [],
   "source": [
    "#1\n",
    "def myfunc():\n",
    "    print('hello world'"
   ]
  },
  {
   "cell_type": "code",
   "execution_count": 2,
   "id": "59bc5ed4",
   "metadata": {},
   "outputs": [
    {
     "name": "stdout",
     "output_type": "stream",
     "text": [
      "hello world\n"
     ]
    }
   ],
   "source": [
    "myfunc()"
   ]
  },
  {
   "cell_type": "code",
   "execution_count": 4,
   "id": "1343a230",
   "metadata": {},
   "outputs": [],
   "source": [
    "#2\n",
    "def myfunc(name):\n",
    "    print('my name is {}'.format(name))"
   ]
  },
  {
   "cell_type": "code",
   "execution_count": 6,
   "id": "87fef4f1",
   "metadata": {},
   "outputs": [
    {
     "name": "stdout",
     "output_type": "stream",
     "text": [
      "my name is kewal\n"
     ]
    }
   ],
   "source": [
    "myfunc('kewal')"
   ]
  },
  {
   "cell_type": "code",
   "execution_count": 10,
   "id": "6d4c79ca",
   "metadata": {},
   "outputs": [],
   "source": [
    "#3\n",
    "def myfunc(bollen):\n",
    "    if bollen == True:\n",
    "        return 'hello'\n",
    "    elif bollen == False:\n",
    "        return 'goodbye'\n"
   ]
  },
  {
   "cell_type": "code",
   "execution_count": 11,
   "id": "e4898821",
   "metadata": {},
   "outputs": [
    {
     "data": {
      "text/plain": [
       "'hello'"
      ]
     },
     "execution_count": 11,
     "metadata": {},
     "output_type": "execute_result"
    }
   ],
   "source": [
    "myfunc(True)"
   ]
  },
  {
   "cell_type": "code",
   "execution_count": 12,
   "id": "017b94e4",
   "metadata": {},
   "outputs": [
    {
     "data": {
      "text/plain": [
       "'goodbye'"
      ]
     },
     "execution_count": 12,
     "metadata": {},
     "output_type": "execute_result"
    }
   ],
   "source": [
    "myfunc(False)"
   ]
  },
  {
   "cell_type": "code",
   "execution_count": 5,
   "id": "ae0bb847",
   "metadata": {},
   "outputs": [],
   "source": [
    "#4\n",
    "def myfunc(x,y,z):\n",
    "    if z == True:\n",
    "        return x\n",
    "    if z == False:\n",
    "        return y\n"
   ]
  },
  {
   "cell_type": "code",
   "execution_count": 6,
   "id": "b83e935c",
   "metadata": {},
   "outputs": [
    {
     "data": {
      "text/plain": [
       "'goodbye'"
      ]
     },
     "execution_count": 6,
     "metadata": {},
     "output_type": "execute_result"
    }
   ],
   "source": [
    "myfunc('hello','goodbye',False)"
   ]
  },
  {
   "cell_type": "code",
   "execution_count": 12,
   "id": "426c6ac1",
   "metadata": {},
   "outputs": [
    {
     "data": {
      "text/plain": [
       "60"
      ]
     },
     "execution_count": 12,
     "metadata": {},
     "output_type": "execute_result"
    }
   ],
   "source": [
    "#5\n",
    "def myfunc(a,b):\n",
    "    return a*b\n",
    "myfunc(5,12)\n",
    "    "
   ]
  },
  {
   "cell_type": "code",
   "execution_count": 1,
   "id": "947139e9",
   "metadata": {},
   "outputs": [],
   "source": [
    "#6\n",
    "def is_evenly_divisible_3(n):\n",
    "    if n%3 == 0:\n",
    "        return True\n",
    "    else:\n",
    "        return False\n"
   ]
  },
  {
   "cell_type": "code",
   "execution_count": 2,
   "id": "e0d8133c",
   "metadata": {},
   "outputs": [
    {
     "data": {
      "text/plain": [
       "True"
      ]
     },
     "execution_count": 2,
     "metadata": {},
     "output_type": "execute_result"
    }
   ],
   "source": [
    "is_evenly_divisible_3(15)"
   ]
  },
  {
   "cell_type": "code",
   "execution_count": 3,
   "id": "083c90f0",
   "metadata": {},
   "outputs": [],
   "source": [
    "#7\n",
    "def is_less(c,d):\n",
    "    if c<d:\n",
    "        return True\n",
    "    else:\n",
    "        return False"
   ]
  },
  {
   "cell_type": "code",
   "execution_count": 4,
   "id": "1ebed5b6",
   "metadata": {},
   "outputs": [
    {
     "data": {
      "text/plain": [
       "True"
      ]
     },
     "execution_count": 4,
     "metadata": {},
     "output_type": "execute_result"
    }
   ],
   "source": [
    "is_less(5,9)"
   ]
  }
 ],
 "metadata": {
  "kernelspec": {
   "display_name": "Python 3 (ipykernel)",
   "language": "python",
   "name": "python3"
  },
  "language_info": {
   "codemirror_mode": {
    "name": "ipython",
    "version": 3
   },
   "file_extension": ".py",
   "mimetype": "text/x-python",
   "name": "python",
   "nbconvert_exporter": "python",
   "pygments_lexer": "ipython3",
   "version": "3.10.9"
  }
 },
 "nbformat": 4,
 "nbformat_minor": 5
}
