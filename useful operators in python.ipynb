{
 "cells": [
  {
   "cell_type": "code",
   "execution_count": 2,
   "id": "debc9387",
   "metadata": {},
   "outputs": [],
   "source": [
    "#ranges"
   ]
  },
  {
   "cell_type": "code",
   "execution_count": 3,
   "id": "f399c45a",
   "metadata": {},
   "outputs": [],
   "source": [
    "mylist = [1,2,3,4,5,6,7,8,9,10]"
   ]
  },
  {
   "cell_type": "code",
   "execution_count": 5,
   "id": "e6b4a638",
   "metadata": {},
   "outputs": [
    {
     "name": "stdout",
     "output_type": "stream",
     "text": [
      "0\n",
      "1\n",
      "2\n",
      "3\n",
      "4\n",
      "5\n",
      "6\n",
      "7\n",
      "8\n",
      "9\n"
     ]
    }
   ],
   "source": [
    "for nun in range(0,10):\n",
    "    print(nun)"
   ]
  },
  {
   "cell_type": "code",
   "execution_count": 6,
   "id": "1a45d159",
   "metadata": {},
   "outputs": [
    {
     "data": {
      "text/plain": [
       "[0, 1, 2, 3, 4, 5, 6, 7, 8, 9]"
      ]
     },
     "execution_count": 6,
     "metadata": {},
     "output_type": "execute_result"
    }
   ],
   "source": [
    "list(range(0,10))"
   ]
  },
  {
   "cell_type": "code",
   "execution_count": 7,
   "id": "e7846733",
   "metadata": {},
   "outputs": [],
   "source": [
    "#enumerate"
   ]
  },
  {
   "cell_type": "code",
   "execution_count": 8,
   "id": "b8ebfc8a",
   "metadata": {},
   "outputs": [
    {
     "name": "stdout",
     "output_type": "stream",
     "text": [
      "at index0the letter is a\n",
      "at index1the letter is b\n",
      "at index2the letter is c\n",
      "at index3the letter is d\n",
      "at index4the letter is e\n"
     ]
    }
   ],
   "source": [
    "index_count = 0\n",
    "for letter in 'abcde':\n",
    "    print('at index{}the letter is {}'.format (index_count,letter))\n",
    "    index_count +=1"
   ]
  },
  {
   "cell_type": "code",
   "execution_count": 9,
   "id": "60329fd9",
   "metadata": {},
   "outputs": [
    {
     "name": "stdout",
     "output_type": "stream",
     "text": [
      "0\n",
      "a\n",
      "\n",
      "\n",
      "1\n",
      "b\n",
      "\n",
      "\n",
      "2\n",
      "c\n",
      "\n",
      "\n",
      "3\n",
      "d\n",
      "\n",
      "\n",
      "4\n",
      "e\n",
      "\n",
      "\n"
     ]
    }
   ],
   "source": [
    "word = 'abcde'\n",
    "for index,letter in enumerate(word):\n",
    "    print(index)\n",
    "    print(letter)\n",
    "    print('\\n')"
   ]
  },
  {
   "cell_type": "code",
   "execution_count": 10,
   "id": "66b9fd56",
   "metadata": {},
   "outputs": [],
   "source": [
    "#zip function  "
   ]
  },
  {
   "cell_type": "code",
   "execution_count": 11,
   "id": "366f74b9",
   "metadata": {},
   "outputs": [
    {
     "name": "stdout",
     "output_type": "stream",
     "text": [
      "11\n",
      "12\n",
      "11\n",
      "12\n",
      "11\n",
      "12\n"
     ]
    }
   ],
   "source": [
    "mylist1 = ['a','b','c']\n",
    "mylist2 = [1,2,3]\n",
    "for item in zip(mylist,mylist2):\n",
    "    print(11)\n",
    "    print(12)"
   ]
  },
  {
   "cell_type": "code",
   "execution_count": 14,
   "id": "2982e280",
   "metadata": {},
   "outputs": [
    {
     "ename": "SyntaxError",
     "evalue": "cannot assign to literal (3799699716.py, line 4)",
     "output_type": "error",
     "traceback": [
      "\u001b[1;36m  Cell \u001b[1;32mIn[14], line 4\u001b[1;36m\u001b[0m\n\u001b[1;33m    for 11,12,13 in zip(mylist1,mylist2,mylist3):\u001b[0m\n\u001b[1;37m        ^\u001b[0m\n\u001b[1;31mSyntaxError\u001b[0m\u001b[1;31m:\u001b[0m cannot assign to literal\n"
     ]
    }
   ],
   "source": [
    "mylist1 = ['a','b','c']\n",
    "mylist2 = [1,2,3,4,5]\n",
    "mylist3 = [11,22,33]\n",
    "for 11,12,13 in zip(mylist1,mylist2,mylist3):\n",
    "    print(11)\n",
    "    print(12)\n",
    "    print(13)"
   ]
  },
  {
   "cell_type": "code",
   "execution_count": 15,
   "id": "70e2bd8e",
   "metadata": {},
   "outputs": [],
   "source": [
    "#in keyboard "
   ]
  },
  {
   "cell_type": "code",
   "execution_count": 16,
   "id": "1dfbc0b6",
   "metadata": {},
   "outputs": [
    {
     "data": {
      "text/plain": [
       "False"
      ]
     },
     "execution_count": 16,
     "metadata": {},
     "output_type": "execute_result"
    }
   ],
   "source": [
    "'x' in [1,2,3]"
   ]
  },
  {
   "cell_type": "code",
   "execution_count": 18,
   "id": "dbc0e33f",
   "metadata": {},
   "outputs": [
    {
     "data": {
      "text/plain": [
       "True"
      ]
     },
     "execution_count": 18,
     "metadata": {},
     "output_type": "execute_result"
    }
   ],
   "source": [
    "'a' in 'wonder la'"
   ]
  },
  {
   "cell_type": "code",
   "execution_count": 22,
   "id": "117a98e3",
   "metadata": {},
   "outputs": [],
   "source": [
    "d = {'mykey':345}"
   ]
  },
  {
   "cell_type": "code",
   "execution_count": 23,
   "id": "325c8c9d",
   "metadata": {},
   "outputs": [
    {
     "data": {
      "text/plain": [
       "True"
      ]
     },
     "execution_count": 23,
     "metadata": {},
     "output_type": "execute_result"
    }
   ],
   "source": [
    "345 in d.values()"
   ]
  },
  {
   "cell_type": "code",
   "execution_count": 24,
   "id": "72e75d88",
   "metadata": {},
   "outputs": [],
   "source": [
    "#min,max"
   ]
  },
  {
   "cell_type": "code",
   "execution_count": 25,
   "id": "8f780ae5",
   "metadata": {},
   "outputs": [
    {
     "data": {
      "text/plain": [
       "10"
      ]
     },
     "execution_count": 25,
     "metadata": {},
     "output_type": "execute_result"
    }
   ],
   "source": [
    "mylist = [10,20,30,40,50,60]\n",
    "min(mylist)"
   ]
  },
  {
   "cell_type": "code",
   "execution_count": 26,
   "id": "c402adef",
   "metadata": {},
   "outputs": [
    {
     "data": {
      "text/plain": [
       "60"
      ]
     },
     "execution_count": 26,
     "metadata": {},
     "output_type": "execute_result"
    }
   ],
   "source": [
    "max(mylist)"
   ]
  },
  {
   "cell_type": "code",
   "execution_count": 1,
   "id": "618a6017",
   "metadata": {},
   "outputs": [],
   "source": [
    "#random library"
   ]
  },
  {
   "cell_type": "code",
   "execution_count": 3,
   "id": "5eabe0fc",
   "metadata": {},
   "outputs": [],
   "source": [
    "from random import shuffle\n",
    "mylist = [1,2,3,4,5,6,7,8]\n",
    "shuffle(mylist)\n",
    "rd1 = mylist"
   ]
  },
  {
   "cell_type": "code",
   "execution_count": 4,
   "id": "43efe1ac",
   "metadata": {},
   "outputs": [
    {
     "data": {
      "text/plain": [
       "[5, 2, 4, 1, 8, 6, 3, 7]"
      ]
     },
     "execution_count": 4,
     "metadata": {},
     "output_type": "execute_result"
    }
   ],
   "source": [
    "rd1"
   ]
  },
  {
   "cell_type": "code",
   "execution_count": 5,
   "id": "4e6044d6",
   "metadata": {},
   "outputs": [
    {
     "data": {
      "text/plain": [
       "3"
      ]
     },
     "execution_count": 5,
     "metadata": {},
     "output_type": "execute_result"
    }
   ],
   "source": [
    "from random import randint\n",
    "randint(0,10)"
   ]
  },
  {
   "cell_type": "code",
   "execution_count": 6,
   "id": "e48bbc7a",
   "metadata": {},
   "outputs": [
    {
     "data": {
      "text/plain": [
       "4"
      ]
     },
     "execution_count": 6,
     "metadata": {},
     "output_type": "execute_result"
    }
   ],
   "source": [
    "randint(0,100)"
   ]
  },
  {
   "cell_type": "code",
   "execution_count": 8,
   "id": "a740f604",
   "metadata": {},
   "outputs": [],
   "source": [
    "my_num = randint(0,50)"
   ]
  },
  {
   "cell_type": "code",
   "execution_count": 9,
   "id": "5ff42ef0",
   "metadata": {},
   "outputs": [
    {
     "data": {
      "text/plain": [
       "40"
      ]
     },
     "execution_count": 9,
     "metadata": {},
     "output_type": "execute_result"
    }
   ],
   "source": [
    "my_num"
   ]
  },
  {
   "cell_type": "code",
   "execution_count": 10,
   "id": "d2edfec2",
   "metadata": {},
   "outputs": [],
   "source": [
    "#input()"
   ]
  },
  {
   "cell_type": "code",
   "execution_count": 12,
   "id": "ecd88f17",
   "metadata": {},
   "outputs": [
    {
     "name": "stdout",
     "output_type": "stream",
     "text": [
      "enter a number here22\n"
     ]
    },
    {
     "data": {
      "text/plain": [
       "'22'"
      ]
     },
     "execution_count": 12,
     "metadata": {},
     "output_type": "execute_result"
    }
   ],
   "source": [
    "input('enter a number here')"
   ]
  },
  {
   "cell_type": "code",
   "execution_count": 14,
   "id": "c58205b9",
   "metadata": {},
   "outputs": [
    {
     "name": "stdout",
     "output_type": "stream",
     "text": [
      "what is your favourite color?22\n"
     ]
    },
    {
     "data": {
      "text/plain": [
       "'22'"
      ]
     },
     "execution_count": 14,
     "metadata": {},
     "output_type": "execute_result"
    }
   ],
   "source": [
    "input('what is your favourite color?')"
   ]
  },
  {
   "cell_type": "code",
   "execution_count": 15,
   "id": "ba0b0e04",
   "metadata": {},
   "outputs": [
    {
     "name": "stdout",
     "output_type": "stream",
     "text": [
      "enter your favourite no22\n"
     ]
    },
    {
     "data": {
      "text/plain": [
       "22"
      ]
     },
     "execution_count": 15,
     "metadata": {},
     "output_type": "execute_result"
    }
   ],
   "source": [
    "int(input('enter your favourite no'))"
   ]
  },
  {
   "cell_type": "markdown",
   "id": "3b5499c8",
   "metadata": {},
   "source": []
  },
  {
   "cell_type": "code",
   "execution_count": 16,
   "id": "e7501841",
   "metadata": {},
   "outputs": [
    {
     "name": "stdout",
     "output_type": "stream",
     "text": [
      "enter your favourite no22\n"
     ]
    }
   ],
   "source": [
    "result = int(input('enter your favourite no'))"
   ]
  },
  {
   "cell_type": "code",
   "execution_count": 17,
   "id": "7e1823dd",
   "metadata": {},
   "outputs": [
    {
     "data": {
      "text/plain": [
       "22"
      ]
     },
     "execution_count": 17,
     "metadata": {},
     "output_type": "execute_result"
    }
   ],
   "source": [
    "result"
   ]
  },
  {
   "cell_type": "code",
   "execution_count": 18,
   "id": "97ff6b06",
   "metadata": {},
   "outputs": [
    {
     "data": {
      "text/plain": [
       "int"
      ]
     },
     "execution_count": 18,
     "metadata": {},
     "output_type": "execute_result"
    }
   ],
   "source": [
    "type(result)"
   ]
  },
  {
   "cell_type": "code",
   "execution_count": 19,
   "id": "e4100777",
   "metadata": {},
   "outputs": [
    {
     "name": "stdout",
     "output_type": "stream",
     "text": [
      "enter 1st number44\n",
      "enter second number66\n",
      "110.0\n"
     ]
    }
   ],
   "source": [
    "number = float(input('enter 1st number'))\n",
    "number_two = float(input('enter second number'))\n",
    "result = number + number_two\n",
    "print(result)"
   ]
  },
  {
   "cell_type": "code",
   "execution_count": 20,
   "id": "be400912",
   "metadata": {},
   "outputs": [],
   "source": [
    "#input()"
   ]
  },
  {
   "cell_type": "code",
   "execution_count": 21,
   "id": "16721554",
   "metadata": {},
   "outputs": [
    {
     "name": "stdout",
     "output_type": "stream",
     "text": [
      "enter a name heresayel mams\n"
     ]
    },
    {
     "data": {
      "text/plain": [
       "'sayel mams'"
      ]
     },
     "execution_count": 21,
     "metadata": {},
     "output_type": "execute_result"
    }
   ],
   "source": [
    "input('enter a name here')"
   ]
  },
  {
   "cell_type": "code",
   "execution_count": 31,
   "id": "960453c0",
   "metadata": {},
   "outputs": [
    {
     "name": "stdout",
     "output_type": "stream",
     "text": [
      "2\n"
     ]
    }
   ],
   "source": [
    "result = '2'\n",
    "print(result)\n"
   ]
  },
  {
   "cell_type": "code",
   "execution_count": 32,
   "id": "5145c7b3",
   "metadata": {},
   "outputs": [
    {
     "data": {
      "text/plain": [
       "'2'"
      ]
     },
     "execution_count": 32,
     "metadata": {},
     "output_type": "execute_result"
    }
   ],
   "source": [
    "result"
   ]
  },
  {
   "cell_type": "code",
   "execution_count": 33,
   "id": "b75c892f",
   "metadata": {},
   "outputs": [],
   "source": [
    "#output()"
   ]
  },
  {
   "cell_type": "code",
   "execution_count": 35,
   "id": "38a3518f",
   "metadata": {},
   "outputs": [],
   "source": [
    "my_list = [1,2,3,4,5,6,]"
   ]
  },
  {
   "cell_type": "code",
   "execution_count": 36,
   "id": "ed29d37f",
   "metadata": {},
   "outputs": [
    {
     "data": {
      "text/plain": [
       "[1, 2, 3, 4, 5, 6]"
      ]
     },
     "execution_count": 36,
     "metadata": {},
     "output_type": "execute_result"
    }
   ],
   "source": [
    "my_list"
   ]
  },
  {
   "cell_type": "code",
   "execution_count": 40,
   "id": "ce4a56e6",
   "metadata": {},
   "outputs": [],
   "source": [
    "from random import shuffle\n",
    "mylist = [1,2,3,4,5,6,7,8]\n",
    "mylist2 =[2,4,5,6,7,8]\n",
    "shuffle(mylist)\n",
    "rd1 = mylist\n",
    "rd2 = mylist2"
   ]
  },
  {
   "cell_type": "code",
   "execution_count": 41,
   "id": "4986c681",
   "metadata": {},
   "outputs": [
    {
     "data": {
      "text/plain": [
       "[2, 4, 5, 6, 7, 8]"
      ]
     },
     "execution_count": 41,
     "metadata": {},
     "output_type": "execute_result"
    }
   ],
   "source": [
    "rd2"
   ]
  },
  {
   "cell_type": "code",
   "execution_count": 42,
   "id": "2c58fcbe",
   "metadata": {},
   "outputs": [
    {
     "data": {
      "text/plain": [
       "[4, 8, 5, 3, 2, 7, 6, 1]"
      ]
     },
     "execution_count": 42,
     "metadata": {},
     "output_type": "execute_result"
    }
   ],
   "source": [
    "rd1"
   ]
  },
  {
   "cell_type": "code",
   "execution_count": 44,
   "id": "176d3baa",
   "metadata": {},
   "outputs": [
    {
     "name": "stdout",
     "output_type": "stream",
     "text": [
      "he will buy maangos\n"
     ]
    }
   ],
   "source": [
    "shop = 'vialoop'\n",
    "if shop == 'kewal':\n",
    "    print('he will buy apples')\n",
    "elif shop == 'vialoop':\n",
    "    print('he will buy maangos')\n",
    "\n",
    "else:\n",
    "    print('he will eat it in shop')\n",
    "    "
   ]
  },
  {
   "cell_type": "code",
   "execution_count": 45,
   "id": "7b53c29b",
   "metadata": {},
   "outputs": [],
   "source": [
    "#list compreshension in python"
   ]
  },
  {
   "cell_type": "code",
   "execution_count": 2,
   "id": "676bb551",
   "metadata": {},
   "outputs": [],
   "source": [
    "mystring = 'hello'\n",
    "mylist = []\n",
    "for letter in mystring :\n",
    "    mylist.append(letter)\n",
    "\n"
   ]
  },
  {
   "cell_type": "code",
   "execution_count": 3,
   "id": "7447f550",
   "metadata": {},
   "outputs": [
    {
     "data": {
      "text/plain": [
       "['h', 'e', 'l', 'l', 'o']"
      ]
     },
     "execution_count": 3,
     "metadata": {},
     "output_type": "execute_result"
    }
   ],
   "source": [
    "mylist"
   ]
  },
  {
   "cell_type": "code",
   "execution_count": 4,
   "id": "a3cc7156",
   "metadata": {},
   "outputs": [],
   "source": [
    "mystring = 'hello'\n",
    "mylist = [letter for letter in mystring]"
   ]
  },
  {
   "cell_type": "code",
   "execution_count": 6,
   "id": "98d371b3",
   "metadata": {},
   "outputs": [
    {
     "data": {
      "text/plain": [
       "['h', 'e', 'l', 'l', 'o']"
      ]
     },
     "execution_count": 6,
     "metadata": {},
     "output_type": "execute_result"
    }
   ],
   "source": [
    "mylist"
   ]
  },
  {
   "cell_type": "code",
   "execution_count": 7,
   "id": "77f0e16a",
   "metadata": {},
   "outputs": [
    {
     "ename": "NameError",
     "evalue": "name 'mylists' is not defined",
     "output_type": "error",
     "traceback": [
      "\u001b[1;31m---------------------------------------------------------------------------\u001b[0m",
      "\u001b[1;31mNameError\u001b[0m                                 Traceback (most recent call last)",
      "Cell \u001b[1;32mIn[7], line 1\u001b[0m\n\u001b[1;32m----> 1\u001b[0m \u001b[43mmylists\u001b[49m\n",
      "\u001b[1;31mNameError\u001b[0m: name 'mylists' is not defined"
     ]
    }
   ],
   "source": [
    "mylists =[num**2]"
   ]
  },
  {
   "cell_type": "code",
   "execution_count": null,
   "id": "534d9c05",
   "metadata": {},
   "outputs": [],
   "source": []
  }
 ],
 "metadata": {
  "kernelspec": {
   "display_name": "Python 3 (ipykernel)",
   "language": "python",
   "name": "python3"
  },
  "language_info": {
   "codemirror_mode": {
    "name": "ipython",
    "version": 3
   },
   "file_extension": ".py",
   "mimetype": "text/x-python",
   "name": "python",
   "nbconvert_exporter": "python",
   "pygments_lexer": "ipython3",
   "version": "3.10.9"
  }
 },
 "nbformat": 4,
 "nbformat_minor": 5
}
